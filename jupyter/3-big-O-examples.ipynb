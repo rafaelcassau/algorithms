{
 "cells": [
  {
   "cell_type": "markdown",
   "metadata": {},
   "source": [
    "## Big O Examples"
   ]
  },
  {
   "cell_type": "markdown",
   "metadata": {},
   "source": [
    "in the first part of the Big-O example section we will go though various iterations of the various Big-O functions. Make sure to complete the read assigment!"
   ]
  },
  {
   "cell_type": "markdown",
   "metadata": {},
   "source": [
    "Let's begin with some simple examples and explore what their Big-O is."
   ]
  },
  {
   "cell_type": "markdown",
   "metadata": {},
   "source": [
    "## O(1) Constant"
   ]
  },
  {
   "cell_type": "code",
   "execution_count": 2,
   "metadata": {},
   "outputs": [
    {
     "name": "stdout",
     "output_type": "stream",
     "text": [
      "1\n"
     ]
    }
   ],
   "source": [
    "def func_constant(values):\n",
    "    \"\"\"\n",
    "    Prints first item in a list of values.\n",
    "    \"\"\"\n",
    "    print(values[0])\n",
    "\n",
    "func_constant([1,2,3])"
   ]
  },
  {
   "cell_type": "markdown",
   "metadata": {},
   "source": [
    "Note how this function is constant because of regardless of the list size, the function will only ever take a constant step size, in this case 1, printing the first value from a list. So we can see here that an input list of 100 values will print just 1 item, a list of 10.000 values will print just 1 item, and a list of N values will print just 1 item!"
   ]
  },
  {
   "cell_type": "markdown",
   "metadata": {},
   "source": [
    "## O(n) Linear"
   ]
  },
  {
   "cell_type": "code",
   "execution_count": 3,
   "metadata": {},
   "outputs": [
    {
     "name": "stdout",
     "output_type": "stream",
     "text": [
      "1\n",
      "2\n",
      "3\n"
     ]
    }
   ],
   "source": [
    "def func_linear(values):\n",
    "    \"\"\"\n",
    "    Takes in list and print out all values.\n",
    "    \"\"\"\n",
    "    for value in values:\n",
    "        print(value)\n",
    "\n",
    "func_linear([1,2,3])"
   ]
  },
  {
   "cell_type": "markdown",
   "metadata": {},
   "source": [
    "This function runs in O(n) \"linear time\". This means that the numbers of operations taking place scales linearly with N, so we can see here that an input list of 100 values will print 100 times, a list of 10.000 values will print 10.000 times and a list of N values will print N times. "
   ]
  },
  {
   "cell_type": "markdown",
   "metadata": {},
   "source": [
    "## O(n^2) Quadratic"
   ]
  },
  {
   "cell_type": "code",
   "execution_count": 4,
   "metadata": {},
   "outputs": [
    {
     "name": "stdout",
     "output_type": "stream",
     "text": [
      "1 1\n",
      "1 2\n",
      "1 3\n",
      "2 1\n",
      "2 2\n",
      "2 3\n",
      "3 1\n",
      "3 2\n",
      "3 3\n"
     ]
    }
   ],
   "source": [
    "def func_quadratic(values):\n",
    "    \"\"\"\n",
    "    Prints pairs for every item in list.\n",
    "    \"\"\"\n",
    "    for first in values:\n",
    "        for second in values:\n",
    "            print(first, second)\n",
    "\n",
    "func_quadratic([1,2,3])"
   ]
  },
  {
   "cell_type": "markdown",
   "metadata": {},
   "source": [
    "Note how we now have 2 loops, one nested inside another. This means that for a list of N items, we will have to perform N operations for every item of the list! This means in total, we will perform N times N assigments, or N^2. So a list of 10 items will have a 10^2, or 100 operations. You can see how dangerous this can get for very large inputs! This is why Big-O is so important to be aware of!  "
   ]
  },
  {
   "cell_type": "markdown",
   "metadata": {},
   "source": [
    "## Calculating Scale of Big-O"
   ]
  },
  {
   "cell_type": "markdown",
   "metadata": {},
   "source": [
    "In this section we will discuss how insignificant terms drop out of Big-O notation."
   ]
  },
  {
   "cell_type": "markdown",
   "metadata": {},
   "source": [
    "When it comes to Big-O notation we only care about the significant terms, remember as the input grows larger only the fastest growing terms will matter. If you've taken a calculus class before, this will remind you of taking limits towards infinity. Let's an example of how to drop constants."
   ]
  },
  {
   "cell_type": "code",
   "execution_count": 6,
   "metadata": {},
   "outputs": [
    {
     "name": "stdout",
     "output_type": "stream",
     "text": [
      "1\n",
      "2\n",
      "3\n"
     ]
    }
   ],
   "source": [
    "def print_once(values):\n",
    "    \"\"\"\n",
    "    Prints all items once -> O(n).\n",
    "    \"\"\"\n",
    "    for value in values:\n",
    "        print(value)\n",
    "\n",
    "print_once([1,2,3])"
   ]
  },
  {
   "cell_type": "markdown",
   "metadata": {},
   "source": [
    "The print_once() function is O(n) since it will scale linearly with the input. What about the next example?"
   ]
  },
  {
   "cell_type": "code",
   "execution_count": 8,
   "metadata": {},
   "outputs": [
    {
     "name": "stdout",
     "output_type": "stream",
     "text": [
      "1\n",
      "2\n",
      "1\n",
      "2\n",
      "1\n",
      "2\n"
     ]
    }
   ],
   "source": [
    "def print_3(values):\n",
    "    \"\"\"\n",
    "    Prints all items three times -> O(3n)\n",
    "    \"\"\"\n",
    "    for value in values:\n",
    "        print(value)\n",
    "    \n",
    "    for value in values:\n",
    "        print(value)\n",
    "    \n",
    "    for value in values:\n",
    "        print(value)\n",
    "\n",
    "print_3([1,2])"
   ]
  },
  {
   "cell_type": "markdown",
   "metadata": {},
   "source": [
    "We can see that the first function will print O(n) items and the second will print O(3n) items. However for N going to infinity the constant can be dropped, since it will not have a large effect, so both functions are O(n)."
   ]
  },
  {
   "cell_type": "markdown",
   "metadata": {},
   "source": [
    "Let's see a more complex example of this:"
   ]
  },
  {
   "cell_type": "code",
   "execution_count": 14,
   "metadata": {},
   "outputs": [
    {
     "name": "stdout",
     "output_type": "stream",
     "text": [
      "1\n",
      "1\n",
      "2\n",
      "3\n",
      "4\n",
      "5\n",
      "number\n",
      "number\n",
      "number\n",
      "number\n",
      "number\n",
      "number\n",
      "number\n",
      "number\n",
      "number\n",
      "number\n"
     ]
    }
   ],
   "source": [
    "def func_complex(values):\n",
    "    \"\"\"\n",
    "    This function prints the first item -> O(1)\n",
    "    Then it prints the first (1/2) of the list -> O(n/2)\n",
    "    Then prints a string 10 times O(10)\n",
    "    \"\"\"\n",
    "    print(values[0])\n",
    "\n",
    "    half = len(values) // 2\n",
    "    for value in values[:half]:\n",
    "        print(value)\n",
    "\n",
    "    for _ in range(10):\n",
    "        print('number')\n",
    "\n",
    "func_complex([1,2,3,4,5,6,7,8,9,10])    "
   ]
  },
  {
   "cell_type": "markdown",
   "metadata": {},
   "source": [
    "So let's break down the operations here. We can combine each operation to get the total Big-O of the function:"
   ]
  },
  {
   "cell_type": "markdown",
   "metadata": {},
   "source": [
    "$$O(1+n/2+10)$$"
   ]
  },
  {
   "cell_type": "markdown",
   "metadata": {},
   "source": [
    "We can see that as N grows larger the 1 and 10 terms become insignificant and the 1/2 term multiplied against N will also not have much of an effect as N goes towards infinity. This means the function is simple O(n)!"
   ]
  },
  {
   "cell_type": "markdown",
   "metadata": {},
   "source": [
    "## Worst Case vs Best Case"
   ]
  },
  {
   "cell_type": "markdown",
   "metadata": {},
   "source": [
    "Many times we are only concerned with the worst possible case of an algorithm, but in a interview setting its important to keeping in mind that worst case and best case scenarios may be completely different Big-O times. For example, consider the following function:"
   ]
  },
  {
   "cell_type": "code",
   "execution_count": 17,
   "metadata": {},
   "outputs": [
    {
     "name": "stdout",
     "output_type": "stream",
     "text": [
      "True\n",
      "False\n"
     ]
    }
   ],
   "source": [
    "def matcher(values, match):\n",
    "    \"\"\"\n",
    "    Given a list values, return a boolean indicating if match item is in the list.\n",
    "    \n",
    "    Best Case  -> O(1)\n",
    "    Worst Case -> O(n)\n",
    "    \"\"\"\n",
    "    for value in values:\n",
    "        if value == match:\n",
    "            return True\n",
    "        return False\n",
    "\n",
    "print(matcher([1,2,3,4,5,6,7,8,9,10], 1)) # Best Case\n",
    "print(matcher([1,2,3,4,5,6,7,8,9,10], 11)) # Worst Case"
   ]
  },
  {
   "cell_type": "markdown",
   "metadata": {},
   "source": [
    "Note that in the first scenario, the best case was actually O(1), since the match was found at the first element. In the case where there is no match, every element must be checked, this results in a worst case time of O(n). Later on we will also discuss average case time."
   ]
  },
  {
   "cell_type": "markdown",
   "metadata": {},
   "source": [
    "Finally let's introduce the concept of space complexity."
   ]
  },
  {
   "cell_type": "markdown",
   "metadata": {},
   "source": [
    "## Space Complexity"
   ]
  },
  {
   "cell_type": "markdown",
   "metadata": {},
   "source": [
    "Many times we are also concerned with how much memory/space an algorithm uses. The notation of space complexity is the same, but instead of checking the time of operations, we check the size of the allocation of the memory."
   ]
  },
  {
   "cell_type": "markdown",
   "metadata": {},
   "source": [
    "Let's see a few examples:"
   ]
  },
  {
   "cell_type": "code",
   "execution_count": 18,
   "metadata": {},
   "outputs": [
    {
     "name": "stdout",
     "output_type": "stream",
     "text": [
      "Hello World!\n",
      "Hello World!\n",
      "Hello World!\n",
      "Hello World!\n",
      "Hello World!\n",
      "Hello World!\n",
      "Hello World!\n",
      "Hello World!\n",
      "Hello World!\n",
      "Hello World!\n"
     ]
    }
   ],
   "source": [
    "def printer(n=10):\n",
    "    for item in range(n):\n",
    "        print('Hello World!')\n",
    "\n",
    "printer()"
   ]
  },
  {
   "cell_type": "markdown",
   "metadata": {},
   "source": [
    "Note how we only assign \"Hello World!\" variable once, not every time we print. So the algorithm has O(1) **space** complexity, and O(n) **time** complexity."
   ]
  },
  {
   "cell_type": "markdown",
   "metadata": {},
   "source": [
    "Let's an example of O(n) **space** complexity:"
   ]
  },
  {
   "cell_type": "code",
   "execution_count": 19,
   "metadata": {},
   "outputs": [
    {
     "data": {
      "text/plain": [
       "['new', 'new', 'new', 'new', 'new']"
      ]
     },
     "execution_count": 19,
     "metadata": {},
     "output_type": "execute_result"
    }
   ],
   "source": [
    "def create_list(n):\n",
    "    new_list = []\n",
    "    for num in range(n):\n",
    "        new_list.append('new')\n",
    "\n",
    "    return new_list\n",
    "\n",
    "create_list(5)"
   ]
  },
  {
   "cell_type": "markdown",
   "metadata": {},
   "source": [
    "Note how the size of the new_list object scales with the input N, this shows that it is an O(n) algorithm with regards to **space** complexity."
   ]
  },
  {
   "cell_type": "markdown",
   "metadata": {},
   "source": [
    "Thats is for this lecture, before continuing on, make sure to read the content bellow:"
   ]
  },
  {
   "cell_type": "markdown",
   "metadata": {},
   "source": [
    "* [Big-O Notation Explained] (http://stackoverflow.com/questions/487258/plain-english-explanation-of-big-o/487278#487278)\n",
    "* [Big-O Examples Explained] (http://stackoverflow.com/questions/2307283/what-does-olog-n-mean-exactly)"
   ]
  },
  {
   "cell_type": "code",
   "execution_count": null,
   "metadata": {},
   "outputs": [],
   "source": []
  }
 ],
 "metadata": {
  "kernelspec": {
   "display_name": "Python 3",
   "language": "python",
   "name": "python3"
  },
  "language_info": {
   "codemirror_mode": {
    "name": "ipython",
    "version": 3
   },
   "file_extension": ".py",
   "mimetype": "text/x-python",
   "name": "python",
   "nbconvert_exporter": "python",
   "pygments_lexer": "ipython3",
   "version": "3.7.2"
  }
 },
 "nbformat": 4,
 "nbformat_minor": 2
}
