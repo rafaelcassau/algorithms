{
 "cells": [
  {
   "cell_type": "markdown",
   "metadata": {},
   "source": [
    "## Dynamic Array Exercise"
   ]
  },
  {
   "cell_type": "markdown",
   "metadata": {},
   "source": [
    "In this exercise we will create our own Dynamic Array"
   ]
  },
  {
   "cell_type": "markdown",
   "metadata": {},
   "source": [
    "We'll be using a built in library called [ctypes](https://docs.python.org/2/library/ctypes.html). Check out documentation for more info, but is basically going to be used here as a raw array from the ctyes module. If you find yourself very interested in it, checkout [Ctypes tutorial](http://starship.python.net/crew/theller/ctypes/tutorial.html)."
   ]
  },
  {
   "cell_type": "markdown",
   "metadata": {},
   "source": [
    "## Dynamic Array Implementation"
   ]
  },
  {
   "cell_type": "code",
   "execution_count": 179,
   "metadata": {},
   "outputs": [],
   "source": [
    "import sys\n",
    "import ctypes \n",
    "\n",
    "\n",
    "class DynamicArray:\n",
    "    \"\"\"\n",
    "    Dynamic Array class, similar to python list.\n",
    "    \"\"\"\n",
    "\n",
    "    def __init__(self, capacity=10):\n",
    "        self._length = 0\n",
    "        self._capacity = capacity\n",
    "        self._array = self._make_array(self._capacity)\n",
    "\n",
    "    def __getitem__(self, index):\n",
    "        \"\"\"\n",
    "        Return the element at index (index)\n",
    "        \"\"\"\n",
    "        if not self._length > index >= 0:\n",
    "            raise IndexError(f'index {index} is out of bounds.')\n",
    "\n",
    "        return self._array[index]\n",
    "\n",
    "    def __len__(self):\n",
    "        \"\"\"\n",
    "        Return the number of elements sorted in array\n",
    "        \"\"\"\n",
    "        return self._length\n",
    "\n",
    "    def __repr__(self):\n",
    "        return \"[\" + \", \".join([str(self._array[index]) for index in range(self._length)]) + \"]\"\n",
    "\n",
    "    def append(self, element):\n",
    "        \"\"\"\n",
    "        Add element to end of the array\n",
    "        \"\"\"\n",
    "        if self._length == self._capacity:\n",
    "            self._resize(self._capacity * 2)\n",
    "        \n",
    "        self._array[self._length] = element\n",
    "        self._length += 1\n",
    "\n",
    "    def pop(self):\n",
    "        \"\"\"\n",
    "        Remove last element of the array\n",
    "        \"\"\"\n",
    "        position = max(self._length -1, 0)\n",
    "\n",
    "        element = self._array[position]\n",
    "        self._array[position] = None\n",
    "        self._length = position\n",
    "        return element\n",
    "        \n",
    "    def _resize(self, new_capacity):\n",
    "        \"\"\"\n",
    "        Resize the internal array to capacity (new_capacity)\n",
    "        \"\"\"\n",
    "        temp_array = self._make_array(new_capacity)\n",
    "\n",
    "        for n in range(self._capacity):\n",
    "            temp_array[n] = self._array[n]\n",
    "\n",
    "        self._array = temp_array\n",
    "        self._capacity = new_capacity\n",
    "        \n",
    "\n",
    "    def _make_array(self, capacity):\n",
    "        \"\"\"\n",
    "        Return a new array with capacity (capacity)\n",
    "        \"\"\"\n",
    "        return (capacity * ctypes.py_object)()"
   ]
  },
  {
   "cell_type": "markdown",
   "metadata": {},
   "source": [
    "### Dynamic list increase in size default 2"
   ]
  },
  {
   "cell_type": "code",
   "execution_count": 180,
   "metadata": {},
   "outputs": [
    {
     "name": "stdout",
     "output_type": "stream",
     "text": [
      "Length: 1, Capacity: 1\n",
      "Length: 2, Capacity: 2\n",
      "Length: 3, Capacity: 4\n",
      "Length: 4, Capacity: 4\n",
      "Length: 5, Capacity: 8\n",
      "Length: 6, Capacity: 8\n",
      "Length: 7, Capacity: 8\n",
      "Length: 8, Capacity: 8\n",
      "Length: 9, Capacity: 16\n",
      "Length: 10, Capacity: 16\n",
      "List: [0, 1, 2, 3, 4, 5, 6, 7, 8, 9]\n"
     ]
    }
   ],
   "source": [
    "custom_array = DynamicArray(capacity=1)\n",
    "\n",
    "for i in range(10):\n",
    "    custom_array.append(i)\n",
    "    print(f'Length: {len(custom_array)}, Capacity: {custom_array._capacity}')\n",
    "\n",
    "print(f'List: {custom_array}')"
   ]
  },
  {
   "cell_type": "markdown",
   "metadata": {},
   "source": [
    "### Dynamic list increase in size default 10"
   ]
  },
  {
   "cell_type": "code",
   "execution_count": 181,
   "metadata": {},
   "outputs": [
    {
     "name": "stdout",
     "output_type": "stream",
     "text": [
      "Length: 1, Capacity: 10\n",
      "Length: 2, Capacity: 10\n",
      "Length: 3, Capacity: 10\n",
      "Length: 4, Capacity: 10\n",
      "Length: 5, Capacity: 10\n",
      "Length: 6, Capacity: 10\n",
      "Length: 7, Capacity: 10\n",
      "Length: 8, Capacity: 10\n",
      "Length: 9, Capacity: 10\n",
      "Length: 10, Capacity: 10\n",
      "List: [0, 1, 2, 3, 4, 5, 6, 7, 8, 9]\n"
     ]
    }
   ],
   "source": [
    "custom_array = DynamicArray()\n",
    "\n",
    "for i in range(10):\n",
    "    custom_array.append(i)\n",
    "    print(f'Length: {len(custom_array)}, Capacity: {custom_array._capacity}')\n",
    "\n",
    "print(f'List: {custom_array}')"
   ]
  },
  {
   "cell_type": "markdown",
   "metadata": {},
   "source": [
    "### Dynamic list accessing item by index"
   ]
  },
  {
   "cell_type": "code",
   "execution_count": 182,
   "metadata": {},
   "outputs": [
    {
     "name": "stdout",
     "output_type": "stream",
     "text": [
      "0\n",
      "1\n",
      "2\n",
      "3\n",
      "4\n"
     ]
    }
   ],
   "source": [
    "print(custom_array[0])\n",
    "print(custom_array[1])\n",
    "print(custom_array[2])\n",
    "print(custom_array[3])\n",
    "print(custom_array[4])"
   ]
  },
  {
   "cell_type": "markdown",
   "metadata": {},
   "source": [
    "### Dynamic list representation method increase and decrease in size"
   ]
  },
  {
   "cell_type": "code",
   "execution_count": 194,
   "metadata": {},
   "outputs": [],
   "source": [
    "custom_array = DynamicArray()"
   ]
  },
  {
   "cell_type": "code",
   "execution_count": 195,
   "metadata": {},
   "outputs": [
    {
     "name": "stdout",
     "output_type": "stream",
     "text": [
      "List append: [0], Length 1\n",
      "List append: [0, 1], Length 2\n",
      "List append: [0, 1, 2], Length 3\n"
     ]
    }
   ],
   "source": [
    "# append() increasing in size\n",
    "\n",
    "custom_array.append(0)\n",
    "print(f'List append: {custom_array}, Length {len(custom_array)}')\n",
    "custom_array.append(1)\n",
    "print(f'List append: {custom_array}, Length {len(custom_array)}')\n",
    "custom_array.append(2)\n",
    "print(f'List append: {custom_array}, Length {len(custom_array)}')"
   ]
  },
  {
   "cell_type": "code",
   "execution_count": 196,
   "metadata": {},
   "outputs": [
    {
     "name": "stdout",
     "output_type": "stream",
     "text": [
      "List pop: [0, 1], Length 2\n",
      "List pop: [0], Length 1\n",
      "List pop: [], Length 0\n",
      "List pop: [], Length 0\n",
      "List pop: [], Length 0\n",
      "List pop: [], Length 0\n"
     ]
    }
   ],
   "source": [
    "# pop() decreasing in size\n",
    "\n",
    "custom_array.pop()\n",
    "print(f'List pop: {custom_array}, Length {len(custom_array)}')\n",
    "custom_array.pop()\n",
    "print(f'List pop: {custom_array}, Length {len(custom_array)}')\n",
    "custom_array.pop()\n",
    "print(f'List pop: {custom_array}, Length {len(custom_array)}')\n",
    "custom_array.pop()\n",
    "print(f'List pop: {custom_array}, Length {len(custom_array)}')\n",
    "custom_array.pop()\n",
    "print(f'List pop: {custom_array}, Length {len(custom_array)}')\n",
    "custom_array.pop()\n",
    "print(f'List pop: {custom_array}, Length {len(custom_array)}')"
   ]
  },
  {
   "cell_type": "markdown",
   "metadata": {},
   "source": [
    "### Dynamic list index error (negative)"
   ]
  },
  {
   "cell_type": "code",
   "execution_count": 138,
   "metadata": {},
   "outputs": [
    {
     "ename": "IndexError",
     "evalue": "index -1 is out of bounds.",
     "output_type": "error",
     "traceback": [
      "\u001b[0;31m---------------------------------------------------------------------------\u001b[0m",
      "\u001b[0;31mIndexError\u001b[0m                                Traceback (most recent call last)",
      "\u001b[0;32m<ipython-input-138-f11e49ddc56e>\u001b[0m in \u001b[0;36m<module>\u001b[0;34m\u001b[0m\n\u001b[0;32m----> 1\u001b[0;31m \u001b[0mprint\u001b[0m\u001b[0;34m(\u001b[0m\u001b[0mcustom_array\u001b[0m\u001b[0;34m[\u001b[0m\u001b[0;34m-\u001b[0m\u001b[0;36m1\u001b[0m\u001b[0;34m]\u001b[0m\u001b[0;34m)\u001b[0m\u001b[0;34m\u001b[0m\u001b[0;34m\u001b[0m\u001b[0m\n\u001b[0m",
      "\u001b[0;32m<ipython-input-134-77571f564456>\u001b[0m in \u001b[0;36m__getitem__\u001b[0;34m(self, index)\u001b[0m\n\u001b[1;32m     18\u001b[0m         \"\"\"\n\u001b[1;32m     19\u001b[0m         \u001b[0;32mif\u001b[0m \u001b[0;32mnot\u001b[0m \u001b[0mself\u001b[0m\u001b[0;34m.\u001b[0m\u001b[0m_length\u001b[0m \u001b[0;34m>\u001b[0m \u001b[0mindex\u001b[0m \u001b[0;34m>=\u001b[0m \u001b[0;36m0\u001b[0m\u001b[0;34m:\u001b[0m\u001b[0;34m\u001b[0m\u001b[0;34m\u001b[0m\u001b[0m\n\u001b[0;32m---> 20\u001b[0;31m             \u001b[0;32mraise\u001b[0m \u001b[0mIndexError\u001b[0m\u001b[0;34m(\u001b[0m\u001b[0;34mf'index {index} is out of bounds.'\u001b[0m\u001b[0;34m)\u001b[0m\u001b[0;34m\u001b[0m\u001b[0;34m\u001b[0m\u001b[0m\n\u001b[0m\u001b[1;32m     21\u001b[0m \u001b[0;34m\u001b[0m\u001b[0m\n\u001b[1;32m     22\u001b[0m         \u001b[0;32mreturn\u001b[0m \u001b[0mself\u001b[0m\u001b[0;34m.\u001b[0m\u001b[0m_array\u001b[0m\u001b[0;34m[\u001b[0m\u001b[0mindex\u001b[0m\u001b[0;34m]\u001b[0m\u001b[0;34m\u001b[0m\u001b[0;34m\u001b[0m\u001b[0m\n",
      "\u001b[0;31mIndexError\u001b[0m: index -1 is out of bounds."
     ]
    }
   ],
   "source": [
    "print(custom_array[-1])"
   ]
  },
  {
   "cell_type": "markdown",
   "metadata": {},
   "source": [
    "### Dynamic list index error (greather than length)"
   ]
  },
  {
   "cell_type": "code",
   "execution_count": 139,
   "metadata": {
    "scrolled": true
   },
   "outputs": [
    {
     "ename": "IndexError",
     "evalue": "index 100 is out of bounds.",
     "output_type": "error",
     "traceback": [
      "\u001b[0;31m---------------------------------------------------------------------------\u001b[0m",
      "\u001b[0;31mIndexError\u001b[0m                                Traceback (most recent call last)",
      "\u001b[0;32m<ipython-input-139-228a4acbc5f6>\u001b[0m in \u001b[0;36m<module>\u001b[0;34m\u001b[0m\n\u001b[0;32m----> 1\u001b[0;31m \u001b[0mprint\u001b[0m\u001b[0;34m(\u001b[0m\u001b[0mcustom_array\u001b[0m\u001b[0;34m[\u001b[0m\u001b[0;36m100\u001b[0m\u001b[0;34m]\u001b[0m\u001b[0;34m)\u001b[0m\u001b[0;34m\u001b[0m\u001b[0;34m\u001b[0m\u001b[0m\n\u001b[0m",
      "\u001b[0;32m<ipython-input-134-77571f564456>\u001b[0m in \u001b[0;36m__getitem__\u001b[0;34m(self, index)\u001b[0m\n\u001b[1;32m     18\u001b[0m         \"\"\"\n\u001b[1;32m     19\u001b[0m         \u001b[0;32mif\u001b[0m \u001b[0;32mnot\u001b[0m \u001b[0mself\u001b[0m\u001b[0;34m.\u001b[0m\u001b[0m_length\u001b[0m \u001b[0;34m>\u001b[0m \u001b[0mindex\u001b[0m \u001b[0;34m>=\u001b[0m \u001b[0;36m0\u001b[0m\u001b[0;34m:\u001b[0m\u001b[0;34m\u001b[0m\u001b[0;34m\u001b[0m\u001b[0m\n\u001b[0;32m---> 20\u001b[0;31m             \u001b[0;32mraise\u001b[0m \u001b[0mIndexError\u001b[0m\u001b[0;34m(\u001b[0m\u001b[0;34mf'index {index} is out of bounds.'\u001b[0m\u001b[0;34m)\u001b[0m\u001b[0;34m\u001b[0m\u001b[0;34m\u001b[0m\u001b[0m\n\u001b[0m\u001b[1;32m     21\u001b[0m \u001b[0;34m\u001b[0m\u001b[0m\n\u001b[1;32m     22\u001b[0m         \u001b[0;32mreturn\u001b[0m \u001b[0mself\u001b[0m\u001b[0;34m.\u001b[0m\u001b[0m_array\u001b[0m\u001b[0;34m[\u001b[0m\u001b[0mindex\u001b[0m\u001b[0;34m]\u001b[0m\u001b[0;34m\u001b[0m\u001b[0;34m\u001b[0m\u001b[0m\n",
      "\u001b[0;31mIndexError\u001b[0m: index 100 is out of bounds."
     ]
    }
   ],
   "source": [
    "print(custom_array[100])"
   ]
  }
 ],
 "metadata": {
  "kernelspec": {
   "display_name": "Python 3",
   "language": "python",
   "name": "python3"
  },
  "language_info": {
   "codemirror_mode": {
    "name": "ipython",
    "version": 3
   },
   "file_extension": ".py",
   "mimetype": "text/x-python",
   "name": "python",
   "nbconvert_exporter": "python",
   "pygments_lexer": "ipython3",
   "version": "3.7.2"
  }
 },
 "nbformat": 4,
 "nbformat_minor": 2
}
