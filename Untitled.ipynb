{
 "cells": [
  {
   "cell_type": "markdown",
   "metadata": {},
   "source": [
    "# Introduction to Algorithm Analysis and Big O\n",
    "In this lesson we will discuss how to analyze Algorithms and why it is important to do so!"
   ]
  },
  {
   "cell_type": "markdown",
   "metadata": {},
   "source": [
    "## Why analyze algorithms?\n",
    "Before we begin, let's clarify what an algorithm is. In this course, an **algorithm** is simply a procedure or formula \n",
    "for solving a problem. Some problems are famous enougth that the algortihms have names, as well as some procedures being common enough that the algorithm associated with it also has a name. So now we have a good question we need to answer:\n",
    "\n",
    "###### How to analilyze algorithms and how can we compare algorithms against each others?\n",
    "\n",
    "Imagine if you and a friend came up with functions to some functions from 0 no N. How whould you compare the functions and algorithms whitin the functions? Let's say you both came up with these separate functions:"
   ]
  },
  {
   "cell_type": "code",
   "execution_count": 6,
   "metadata": {},
   "outputs": [],
   "source": [
    "# First function\n",
    "def sum1(n):\n",
    "    \"\"\"\n",
    "    Take a input of N and return the sum of the numbers from 0 to N.\n",
    "    \"\"\"\n",
    "    final_sum = 0\n",
    "    for i in range(n + 1):\n",
    "        final_sum += i\n",
    "\n",
    "    return final_sum"
   ]
  },
  {
   "cell_type": "code",
   "execution_count": 7,
   "metadata": {},
   "outputs": [
    {
     "data": {
      "text/plain": [
       "55"
      ]
     },
     "execution_count": 7,
     "metadata": {},
     "output_type": "execute_result"
    }
   ],
   "source": [
    "sum1(10)"
   ]
  },
  {
   "cell_type": "code",
   "execution_count": 10,
   "metadata": {},
   "outputs": [],
   "source": [
    "def sum2(n):\n",
    "    \"\"\"\n",
    "    Take a input of N and return the sum of the numbers from 0 to N\n",
    "    \"\"\"\n",
    "    return n*(n+1) // 2"
   ]
  },
  {
   "cell_type": "code",
   "execution_count": 11,
   "metadata": {},
   "outputs": [
    {
     "data": {
      "text/plain": [
       "55"
      ]
     },
     "execution_count": 11,
     "metadata": {},
     "output_type": "execute_result"
    }
   ],
   "source": [
    "sum2(10)"
   ]
  },
  {
   "cell_type": "markdown",
   "metadata": {},
   "source": [
    "You will notice both the functions have same result, but completely diferent algorithms. You'll note that the first function iteratively adds the numbers, while the second functions make use of:\n",
    "\n",
    "$$\\sum_{i=0}^{n} {i} = \\frac{n(n+1)}{2}$$\n",
    "\n",
    "So how can we objectively compare the algorithms? We could compare the amount of space they take in memory or we could also compare how much time it takes each function to run. We can use the built in **%timeit** magic function in jupyter to compare the time of the functions. The [**%timeit**](https://ipython.org/ipython-doc/3/interactive/magics.html#magic-timeit) magic in the jupyter notebooks will repeat the loop iteration a certain number of times and takes the best result. Check out the link for the documentation.\n",
    "\n",
    "Let's go ahead and compare the time it took to run the functions:"
   ]
  },
  {
   "cell_type": "code",
   "execution_count": 13,
   "metadata": {},
   "outputs": [
    {
     "name": "stdout",
     "output_type": "stream",
     "text": [
      "915 ns ± 24.7 ns per loop (mean ± std. dev. of 7 runs, 1000000 loops each)\n"
     ]
    }
   ],
   "source": [
    "%timeit sum1(10)"
   ]
  },
  {
   "cell_type": "code",
   "execution_count": 14,
   "metadata": {},
   "outputs": [
    {
     "name": "stdout",
     "output_type": "stream",
     "text": [
      "169 ns ± 0.44 ns per loop (mean ± std. dev. of 7 runs, 10000000 loops each)\n"
     ]
    }
   ],
   "source": [
    "%timeit sum2(10)"
   ]
  },
  {
   "cell_type": "markdown",
   "metadata": {},
   "source": [
    "We can see that the second function is much more efficient! Running at a much faster rate than the first. However, we\n",
    "can not use \"time to run\" as an objective measurement, because that will depend on the speed of the computer itself \n",
    "and hardware capabilities.\n",
    "So we will need to use another method, **Big-O**!\n",
    "\n",
    "In the next lecture we will discuss Big-O notation and why its so important!"
   ]
  },
  {
   "cell_type": "code",
   "execution_count": null,
   "metadata": {},
   "outputs": [],
   "source": []
  }
 ],
 "metadata": {
  "kernelspec": {
   "display_name": "Python 3",
   "language": "python",
   "name": "python3"
  },
  "language_info": {
   "codemirror_mode": {
    "name": "ipython",
    "version": 3
   },
   "file_extension": ".py",
   "mimetype": "text/x-python",
   "name": "python",
   "nbconvert_exporter": "python",
   "pygments_lexer": "ipython3",
   "version": "3.7.1"
  }
 },
 "nbformat": 4,
 "nbformat_minor": 2
}
